{
  "cells": [
    {
      "cell_type": "markdown",
      "metadata": {
        "id": "uQ6wc2HE0pke"
      },
      "source": [
        "# **Lab: Model Optimization**\n",
        "\n"
      ]
    },
    {
      "cell_type": "markdown",
      "metadata": {
        "id": "tQgxLRrvjiJb"
      },
      "source": [
        "## Exercise 2: Xgboost with Hyperopt\n",
        "\n",
        "We will train a Xgboost model on the same dataset as previously usiong Hyperopt.\n",
        "\n",
        "\n",
        "**Pre-requisites:**\n",
        "- Create a github account (https://github.com/join)\n",
        "- Install git (https://git-scm.com/book/en/v2/Getting-Started-Installing-Git)\n",
        "- Install Docker (https://docs.docker.com/get-docker/)\n",
        "\n",
        "The steps are:\n",
        "1.   Launch Docker image\n",
        "2.   Load Data\n",
        "3.   Train Xgboost model with defauly hyperparameter\n",
        "4.   Hyperparameter tuning with Hyperopt\n",
        "5.   Push changes\n"
      ]
    },
    {
      "cell_type": "markdown",
      "metadata": {
        "id": "smh_LhVjIg9s"
      },
      "source": [
        "### 1. Launch Docker image"
      ]
    },
    {
      "cell_type": "markdown",
      "metadata": {
        "id": "P7KRLjcRn2d4"
      },
      "source": [
        "**[1.1]** Go to the folder you created previously `adv_dsi_lab_3`"
      ]
    },
    {
      "cell_type": "code",
      "execution_count": null,
      "metadata": {
        "id": "xBNTTx7UAVCV"
      },
      "outputs": [],
      "source": [
        "# Placeholder for student's code (1 command line)\n",
        "# Task: Go to the folder you created previously adv_dsi_lab_3"
      ]
    },
    {
      "cell_type": "code",
      "execution_count": null,
      "metadata": {
        "id": "hsv0dkk1n7Bg"
      },
      "outputs": [],
      "source": [
        "#Solution:\n",
        "cd ~/Projects/adv_dsi_lab_3"
      ]
    },
    {
      "cell_type": "markdown",
      "metadata": {
        "id": "urrLvZmTUX23"
      },
      "source": [
        "**[1.2]** Run the built Docker image"
      ]
    },
    {
      "cell_type": "code",
      "execution_count": null,
      "metadata": {
        "id": "nDAwl-fSVgIe"
      },
      "outputs": [],
      "source": [
        "docker run  -dit --rm --name adv_dsi_lab_3 -p 8888:8888 -e JUPYTER_ENABLE_LAB=yes -v ~/Projects/adv_dsi/adv_dsi_lab_3:/home/jovyan/work -v ~/.aws:/home/jovyan/.aws -v ~/Projects/adv_dsi/src:/home/jovyan/work/src xgboost-notebook:latest "
      ]
    },
    {
      "cell_type": "markdown",
      "metadata": {
        "id": "vP0EUHpaX_-m"
      },
      "source": [
        "Syntax: docker run [OPTIONS] IMAGE\n",
        "\n",
        "Options:\n",
        "\n",
        "`-dit: Run container in background and interactive`\n",
        "\n",
        "`--rm: Automatically remove the container when it exits`\n",
        "\n",
        "`--name: Assign a name to the container`\n",
        "\n",
        "`-p: Publish a container's port(s) to the host`\n",
        "\n",
        "`-e: Set environment variables`\n",
        "\n",
        "`-v Bind mount a volume`\n",
        "\n",
        "Documentation: https://docs.docker.com/engine/reference/commandline/run/"
      ]
    },
    {
      "cell_type": "markdown",
      "metadata": {
        "id": "4fO9RJMhwGpM"
      },
      "source": [
        "**[1.3]** Display last 50 lines of logs"
      ]
    },
    {
      "cell_type": "code",
      "execution_count": null,
      "metadata": {
        "id": "RwizA-K3wGyb"
      },
      "outputs": [],
      "source": [
        "docker logs --tail 50 adv_dsi_lab_2"
      ]
    },
    {
      "cell_type": "markdown",
      "metadata": {
        "id": "5gKuxsPkZrjB"
      },
      "source": [
        "Syntax: docker logs [OPTIONS] CONTAINER\n",
        "\n",
        "Options:\n",
        "\n",
        "`--tail: Number of lines to show from the end of the logs`\n",
        "\n",
        "Documentation: https://docs.docker.com/engine/reference/commandline/logs/"
      ]
    },
    {
      "cell_type": "markdown",
      "metadata": {
        "id": "QxkJaPioCmEO"
      },
      "source": [
        "Copy the url displayed and paste it to a browser in order to launch Jupyter Lab"
      ]
    },
    {
      "cell_type": "markdown",
      "metadata": {
        "id": "jxQRDLu2C6D4"
      },
      "source": [
        "**[1.4]** Create a new git branch called `xgboost_hyperopt`"
      ]
    },
    {
      "cell_type": "code",
      "execution_count": null,
      "metadata": {
        "id": "zBD6K4MXC6rA"
      },
      "outputs": [],
      "source": [
        "git checkout -b xgboost_hyperopt"
      ]
    },
    {
      "cell_type": "markdown",
      "metadata": {
        "id": "bR8U5ATZalkz"
      },
      "source": [
        "Documentation: https://www.atlassian.com/git/tutorials/using-branches/git-checkout"
      ]
    },
    {
      "cell_type": "markdown",
      "metadata": {
        "id": "yTjwF_joDWnE"
      },
      "source": [
        "**[1.7]** Navigate the folder `notebooks` and create a new jupyter notebook called `2_xgboost_hyperopt.ipynb`"
      ]
    },
    {
      "cell_type": "markdown",
      "metadata": {
        "id": "_NCwQQFkU3v5"
      },
      "source": [
        "### 2. Load Data"
      ]
    },
    {
      "cell_type": "markdown",
      "metadata": {
        "id": "4JI0kZJxpkoK"
      },
      "source": [
        "**[2.1]** Import the function you created `load_sets` from `src/data/sets`"
      ]
    },
    {
      "cell_type": "code",
      "execution_count": null,
      "metadata": {
        "id": "85PHb6M7p57j"
      },
      "outputs": [],
      "source": [
        "# Placeholder for student's code (1 line of Python code)\n",
        "# Task: Import the function you created load_sets from src/data/sets"
      ]
    },
    {
      "cell_type": "code",
      "execution_count": null,
      "metadata": {
        "id": "1sXpjWA8pz0q"
      },
      "outputs": [],
      "source": [
        "# Solution\n",
        "from src.data.sets import load_sets"
      ]
    },
    {
      "cell_type": "markdown",
      "metadata": {
        "id": "R-Zy6Oq8pkuB"
      },
      "source": [
        "**[2.2]** Load the saved sets from `data/processed`"
      ]
    },
    {
      "cell_type": "code",
      "execution_count": null,
      "metadata": {
        "id": "ZresJIasqpgH"
      },
      "outputs": [],
      "source": [
        "# Placeholder for student's code (1 line of Python code)\n",
        "# Task: Load the saved sets from data/processed"
      ]
    },
    {
      "cell_type": "code",
      "execution_count": null,
      "metadata": {
        "id": "Q1iETWjDftMg"
      },
      "outputs": [],
      "source": [
        "#Solution:\n",
        "X_train, y_train, X_val, y_val, X_test, y_test = load_sets(path='../data/processed/')"
      ]
    },
    {
      "cell_type": "markdown",
      "metadata": {
        "id": "K_m-WMllhVqG"
      },
      "source": [
        "# 3. Train Xgboost model"
      ]
    },
    {
      "cell_type": "markdown",
      "metadata": {
        "id": "ImPSPeLcQrS5"
      },
      "source": [
        "**[3.1]** Import the xgboost package as xgb\n"
      ]
    },
    {
      "cell_type": "code",
      "execution_count": null,
      "metadata": {
        "id": "Oqu0mLfnQrZX"
      },
      "outputs": [],
      "source": [
        "# Placeholder for student's code (1 line of Python code)\n",
        "# Task: Import the xgboost package as xgb"
      ]
    },
    {
      "cell_type": "code",
      "execution_count": null,
      "metadata": {
        "id": "hh2wmK9wQrcB"
      },
      "outputs": [],
      "source": [
        "# Solution:\n",
        "import xgboost as xgb"
      ]
    },
    {
      "cell_type": "markdown",
      "metadata": {
        "id": "m00Ks05tQsJb"
      },
      "source": [
        "**[3.2]** Instantiate the RandomForest class into a variable called rf with random_state=8"
      ]
    },
    {
      "cell_type": "code",
      "execution_count": null,
      "metadata": {
        "id": "x--MSD6_QsRV"
      },
      "outputs": [],
      "source": [
        "# Placeholder for student's code (1 line of code)\n",
        "# Task: instantiate the XGBClassifier class into a variable called xgboost1"
      ]
    },
    {
      "cell_type": "code",
      "execution_count": null,
      "metadata": {
        "id": "oijeWjaIQsT9"
      },
      "outputs": [],
      "source": [
        "# Solution\n",
        "xgboost1 = xgb.XGBClassifier()"
      ]
    },
    {
      "cell_type": "markdown",
      "metadata": {
        "id": "Ao86WklhRj-F"
      },
      "source": [
        "**[3.3]** Task: Fit the model with the prepared data"
      ]
    },
    {
      "cell_type": "code",
      "execution_count": null,
      "metadata": {
        "id": "lMXMIkJHRkHz"
      },
      "outputs": [],
      "source": [
        "# Placeholder for student's code (1 line of code)\n",
        "# Task: Fit the model with the prepared data"
      ]
    },
    {
      "cell_type": "code",
      "execution_count": null,
      "metadata": {
        "id": "rprce0GGRkKb",
        "outputId": "63ca62c2-6975-453f-9321-f3bae13cace5"
      },
      "outputs": [
        {
          "data": {
            "text/plain": [
              "XGBClassifier(base_score=0.5, booster='gbtree', colsample_bylevel=1,\n",
              "              colsample_bynode=1, colsample_bytree=1, gamma=0, gpu_id=-1,\n",
              "              importance_type='gain', interaction_constraints='',\n",
              "              learning_rate=0.300000012, max_delta_step=0, max_depth=6,\n",
              "              min_child_weight=1, missing=nan, monotone_constraints='()',\n",
              "              n_estimators=100, n_jobs=0, num_parallel_tree=1,\n",
              "              objective='multi:softprob', random_state=0, reg_alpha=0,\n",
              "              reg_lambda=1, scale_pos_weight=None, subsample=1,\n",
              "              tree_method='exact', validate_parameters=1, verbosity=None)"
            ]
          },
          "execution_count": 10,
          "metadata": {},
          "output_type": "execute_result"
        }
      ],
      "source": [
        "# Solution\n",
        "xgboost1.fit(X_train, y_train)"
      ]
    },
    {
      "cell_type": "markdown",
      "metadata": {
        "id": "LZFys_bhRtu-"
      },
      "source": [
        "**[3.4]** Import `dump` from `joblib` and save the fitted model into the folder `models` as a file called `xgboost_default`"
      ]
    },
    {
      "cell_type": "code",
      "execution_count": null,
      "metadata": {
        "id": "QzHfn9UORt2e"
      },
      "outputs": [],
      "source": [
        "# Placeholder for student's code (2 lines of Python code)\n",
        "# Task: Import dump from joblib and save the fitted model into the folder models as a file called xgboost_default"
      ]
    },
    {
      "cell_type": "code",
      "execution_count": null,
      "metadata": {
        "id": "3Yn_xbLxRt4y",
        "outputId": "b835f8af-2573-48e5-bf0b-e2a0d188c498"
      },
      "outputs": [
        {
          "data": {
            "text/plain": [
              "['../models/xgboost_default.joblib']"
            ]
          },
          "execution_count": 12,
          "metadata": {},
          "output_type": "execute_result"
        }
      ],
      "source": [
        "# Solution:\n",
        "from joblib import dump \n",
        "\n",
        "dump(xgboost1,  '../models/xgboost_default.joblib')"
      ]
    },
    {
      "cell_type": "markdown",
      "metadata": {
        "id": "xMvlK3mkfk0Q"
      },
      "source": [
        "**[3.5]** Save the predictions from this model for the training and validation sets into 2 variables called `y_train_preds` and `y_val_preds`\n"
      ]
    },
    {
      "cell_type": "code",
      "execution_count": null,
      "metadata": {
        "id": "xOVFv7mFfk6D"
      },
      "outputs": [],
      "source": [
        "# Placeholder for student's code (2 lines of Python code)\n",
        "# Task: Save the predictions from this model for the training and validation sets into 2 variables called y_train_preds and y_val_preds"
      ]
    },
    {
      "cell_type": "code",
      "execution_count": null,
      "metadata": {
        "id": "BTkCfP4lfk86"
      },
      "outputs": [],
      "source": [
        "# Solution:\n",
        "y_train_preds = xgboost1.predict(X_train)\n",
        "y_val_preds = xgboost1.predict(X_val)"
      ]
    },
    {
      "cell_type": "markdown",
      "metadata": {
        "id": "Y5npD0dOhhzK"
      },
      "source": [
        "**[3.6]** Import `print_reg_perf` from `src/models/performance` and display the accuracy and f1 scores of this baseline model on the training and validation sets"
      ]
    },
    {
      "cell_type": "code",
      "execution_count": null,
      "metadata": {
        "id": "kWGNX_byhh6_"
      },
      "outputs": [],
      "source": [
        "# Placeholder for student's code (3 lines of Python code)\n",
        "# Task: Import print_reg_perf from src/models/performance and display the accuracy and f1 scores of this baseline model on the training and validation sets"
      ]
    },
    {
      "cell_type": "code",
      "execution_count": null,
      "metadata": {
        "id": "lt4gAHbynz07",
        "outputId": "f048ac46-5eb0-4000-eabb-0918a6a8b986"
      },
      "outputs": [
        {
          "name": "stdout",
          "output_type": "stream",
          "text": [
            "Accuracy Training: 0.9241850204839105\n",
            "F1 Training: 0.9239048901039122\n",
            "Accuracy Validation: 0.9066156852034707\n",
            "F1 Validation: 0.9061059642094202\n"
          ]
        }
      ],
      "source": [
        "# Solution\n",
        "from src.models.performance import print_class_perf\n",
        "\n",
        "print_class_perf(y_preds=y_train_preds, y_actuals=y_train, set_name='Training', average='weighted')\n",
        "print_class_perf(y_preds=y_val_preds, y_actuals=y_val, set_name='Validation', average='weighted')"
      ]
    },
    {
      "cell_type": "markdown",
      "metadata": {
        "id": "MoU-4xkAwXeg"
      },
      "source": [
        "#4. Hyperparameter tuning with Hyperopt"
      ]
    },
    {
      "cell_type": "markdown",
      "metadata": {
        "id": "h8_1y9IHwXnM"
      },
      "source": [
        "**[4.1]** Import Trials, STATUS_OK, tpe, hp, fmin from hyperopt package"
      ]
    },
    {
      "cell_type": "code",
      "execution_count": null,
      "metadata": {
        "id": "VJGuzojpwXus"
      },
      "outputs": [],
      "source": [
        "# Placeholder for student's code (1 line of python code)\n",
        "# Task: Import Trials, STATUS_OK, tpe, hp, fmin from hyperopt package"
      ]
    },
    {
      "cell_type": "code",
      "execution_count": null,
      "metadata": {
        "id": "lRndcJ2nxjp4"
      },
      "outputs": [],
      "source": [
        "# Solution:\n",
        "from hyperopt import Trials, STATUS_OK, tpe, hp, fmin"
      ]
    },
    {
      "cell_type": "markdown",
      "metadata": {
        "id": "Mck4PVDTxt9T"
      },
      "source": [
        "**[4.2]** Define the search space for xgboost hyperparameters"
      ]
    },
    {
      "cell_type": "code",
      "execution_count": null,
      "metadata": {
        "id": "laZLSZYsxuEh"
      },
      "outputs": [],
      "source": [
        "space = {\n",
        "    'max_depth' : hp.choice('max_depth', range(5, 20, 1)),\n",
        "    'learning_rate' : hp.quniform('learning_rate', 0.01, 0.5, 0.05),\n",
        "    'min_child_weight' : hp.quniform('min_child_weight', 1, 10, 1),\n",
        "    'subsample' : hp.quniform('subsample', 0.1, 1, 0.05),\n",
        "    'colsample_bytree' : hp.quniform('colsample_bytree', 0.1, 1.0, 0.05)\n",
        "}"
      ]
    },
    {
      "cell_type": "markdown",
      "metadata": {
        "id": "8M9Aktt4xyEY"
      },
      "source": [
        "**[4.3]** Define a function called `objective` with the following logics:\n",
        "- input parameters: hyperparameter seacrh space (`space`)\n",
        "- logics: train a xgboost model with the search space and calculate the average accuracy score for cross validation with 10 folds\n",
        "- output parameters: dictionary with the loss score and STATUS_OK"
      ]
    },
    {
      "cell_type": "code",
      "execution_count": null,
      "metadata": {
        "id": "s4aYuQhpxynj"
      },
      "outputs": [],
      "source": [
        "# Placeholder for student's code (multiple lines of python code)\n",
        "# Task: Define a function called objective"
      ]
    },
    {
      "cell_type": "code",
      "execution_count": null,
      "metadata": {
        "id": "yF8I9wCzxuHV"
      },
      "outputs": [],
      "source": [
        "# Solution:\n",
        "def objective(space):\n",
        "    from sklearn.model_selection import cross_val_score\n",
        "    \n",
        "    xgboost = xgb.XGBClassifier(\n",
        "        max_depth = int(space['max_depth']),\n",
        "        learning_rate = space['learning_rate'],\n",
        "        min_child_weight = space['min_child_weight'],\n",
        "        subsample = space['subsample'],\n",
        "        colsample_bytree = space['colsample_bytree']\n",
        "    )\n",
        "    \n",
        "    acc = cross_val_score(xgboost, X_train, y_train, cv=10, scoring=\"accuracy\").mean()\n",
        "\n",
        "    return{'loss': 1-acc, 'status': STATUS_OK }"
      ]
    },
    {
      "cell_type": "markdown",
      "metadata": {
        "id": "A_ClL57Vzz2e"
      },
      "source": [
        "**[4.4]** Launch Hyperopt search and save the result in a variable called `best`"
      ]
    },
    {
      "cell_type": "code",
      "execution_count": null,
      "metadata": {
        "id": "Tj22kb4lz0AY",
        "outputId": "f87ebbfb-4322-49bc-edb6-da54e756ccc4"
      },
      "outputs": [
        {
          "name": "stdout",
          "output_type": "stream",
          "text": [
            "100%|██████████| 5/5 [21:19<00:00, 255.92s/trial, best loss: 0.09989847238005789]\n"
          ]
        }
      ],
      "source": [
        "best = fmin(\n",
        "    fn=objective,   \n",
        "    space=space,       \n",
        "    algo=tpe.suggest,       \n",
        "    max_evals=5\n",
        ")"
      ]
    },
    {
      "cell_type": "markdown",
      "metadata": {
        "id": "gJm3Scgp0AMy"
      },
      "source": [
        "**[4.5]** Print the best set of hyperparameters"
      ]
    },
    {
      "cell_type": "code",
      "execution_count": null,
      "metadata": {
        "id": "tfio_97p0AS8"
      },
      "outputs": [],
      "source": [
        "# Placeholder for student's code (1 line of python code)\n",
        "# Task: Print the best set of hyperparameters"
      ]
    },
    {
      "cell_type": "code",
      "execution_count": null,
      "metadata": {
        "id": "uIBz96z20AVw",
        "outputId": "43c4e6db-055d-400f-ef5f-3f243b5255d5"
      },
      "outputs": [
        {
          "name": "stdout",
          "output_type": "stream",
          "text": [
            "Best:  {'colsample_bytree': 0.35000000000000003, 'learning_rate': 0.15000000000000002, 'max_depth': 3, 'min_child_weight': 5.0, 'subsample': 0.9500000000000001}\n"
          ]
        }
      ],
      "source": [
        "# Solution:\n",
        "print(\"Best: \", best)"
      ]
    },
    {
      "cell_type": "markdown",
      "metadata": {
        "id": "s76GS-Rl0SpV"
      },
      "source": [
        "**[4.6]** Instantiate a XGBClassifier with best set of hyperparameters"
      ]
    },
    {
      "cell_type": "code",
      "execution_count": null,
      "metadata": {
        "id": "al9WkXFz0SxG"
      },
      "outputs": [],
      "source": [
        "# Placeholder for student's code (multiple lines of python code)\n",
        "# Task: Instantiate a XGBClassifier with best set of hyperparameters"
      ]
    },
    {
      "cell_type": "code",
      "execution_count": null,
      "metadata": {
        "id": "BhalZZ3J0S6v"
      },
      "outputs": [],
      "source": [
        "# Solution:\n",
        "xgboost2 = xgb.XGBClassifier(\n",
        "    max_depth = best['max_depth'],\n",
        "    learning_rate = best['learning_rate'],\n",
        "    min_child_weight = best['min_child_weight'],\n",
        "    subsample = best['subsample'],\n",
        "    colsample_bytree = best['colsample_bytree']\n",
        ")"
      ]
    },
    {
      "cell_type": "markdown",
      "metadata": {
        "id": "nA9e_8Xv0kIg"
      },
      "source": [
        "**[4.7]** Fit the model with the prepared data"
      ]
    },
    {
      "cell_type": "code",
      "execution_count": null,
      "metadata": {
        "id": "2vywZGHU0kQd"
      },
      "outputs": [],
      "source": [
        "# Placeholder for student's code (1 line of python code)\n",
        "# Task: Fit the model with the prepared data"
      ]
    },
    {
      "cell_type": "code",
      "execution_count": null,
      "metadata": {
        "id": "ycPhI0XC0kR3",
        "outputId": "cd01c02f-b8f6-4410-c51a-224ed0b5d53e"
      },
      "outputs": [
        {
          "data": {
            "text/plain": [
              "XGBClassifier(base_score=0.5, booster='gbtree', colsample_bylevel=1,\n",
              "              colsample_bynode=1, colsample_bytree=0.35000000000000003, gamma=0,\n",
              "              gpu_id=-1, importance_type='gain', interaction_constraints='',\n",
              "              learning_rate=0.15000000000000002, max_delta_step=0, max_depth=3,\n",
              "              min_child_weight=5.0, missing=nan, monotone_constraints='()',\n",
              "              n_estimators=100, n_jobs=0, num_parallel_tree=1,\n",
              "              objective='multi:softprob', random_state=0, reg_alpha=0,\n",
              "              reg_lambda=1, scale_pos_weight=None, subsample=0.9500000000000001,\n",
              "              tree_method='exact', validate_parameters=1, verbosity=None)"
            ]
          },
          "execution_count": 31,
          "metadata": {},
          "output_type": "execute_result"
        }
      ],
      "source": [
        "# Solution:\n",
        "xgboost2.fit(X_train, y_train)"
      ]
    },
    {
      "cell_type": "markdown",
      "metadata": {
        "id": "Z0oBRC_n0kjk"
      },
      "source": [
        "**[4.8]** Display the accuracy and f1 scores of this baseline model on the training and validation sets"
      ]
    },
    {
      "cell_type": "code",
      "execution_count": null,
      "metadata": {
        "id": "__oxPYWH0krY"
      },
      "outputs": [],
      "source": [
        "# Placeholder for student's code (2 lines of python code)\n",
        "# Task: Display the accuracy and f1 scores of this baseline model on the training and validation sets"
      ]
    },
    {
      "cell_type": "code",
      "execution_count": null,
      "metadata": {
        "id": "q2WRU7fo0ktJ",
        "outputId": "bf483969-477c-4f73-870e-aeaa22623526"
      },
      "outputs": [
        {
          "name": "stdout",
          "output_type": "stream",
          "text": [
            "Accuracy Training: 0.8756679155432613\n",
            "F1 Training: 0.8741427824032268\n",
            "Accuracy Validation: 0.8759217630622492\n",
            "F1 Validation: 0.8742533580742383\n"
          ]
        }
      ],
      "source": [
        "# Solution:\n",
        "print_class_perf(y_preds=xgboost2.predict(X_train), y_actuals=y_train, set_name='Training', average='weighted')\n",
        "print_class_perf(y_preds=xgboost2.predict(X_val), y_actuals=y_val, set_name='Validation', average='weighted')"
      ]
    },
    {
      "cell_type": "markdown",
      "metadata": {
        "id": "dSmI_Gaw0mDB"
      },
      "source": [
        "**[4.9]** Save the fitted model into the folder models as a file called `xgboost_best`"
      ]
    },
    {
      "cell_type": "code",
      "execution_count": null,
      "metadata": {
        "id": "585Uwlg50mKl"
      },
      "outputs": [],
      "source": [
        "# Placeholder for student's code (1 line of python code)\n",
        "# Task: Save the fitted model into the folder models as a file called xgboost_best"
      ]
    },
    {
      "cell_type": "code",
      "execution_count": null,
      "metadata": {
        "id": "VY5n-7X-0mMy",
        "outputId": "0a1c24ab-6a5b-49b2-f5e1-c68745b4db11"
      },
      "outputs": [
        {
          "data": {
            "text/plain": [
              "['../models/xgboost_best.joblib']"
            ]
          },
          "execution_count": 33,
          "metadata": {},
          "output_type": "execute_result"
        }
      ],
      "source": [
        "# Solution:\n",
        "dump(xgboost2,  '../models/xgboost_best.joblib')"
      ]
    },
    {
      "cell_type": "markdown",
      "metadata": {
        "id": "1yX0Ocg4hcZM"
      },
      "source": [
        "# 5.   Push changes"
      ]
    },
    {
      "cell_type": "markdown",
      "metadata": {
        "id": "3guOKU9gjrmp"
      },
      "source": [
        "**[5.1]** Add you changes to git staging area"
      ]
    },
    {
      "cell_type": "code",
      "execution_count": null,
      "metadata": {
        "id": "lKuRNeqAj0ym"
      },
      "outputs": [],
      "source": [
        "# Placeholder for student's code (1 command line)\n",
        "# Task: Add you changes to git staging area"
      ]
    },
    {
      "cell_type": "code",
      "execution_count": null,
      "metadata": {
        "id": "axcj-jS0jruy"
      },
      "outputs": [],
      "source": [
        "# Solution:\n",
        "git add ."
      ]
    },
    {
      "cell_type": "markdown",
      "metadata": {
        "id": "6nUK2dp_j67X"
      },
      "source": [
        "**[5.2]** Create the snapshot of your repository and add a description"
      ]
    },
    {
      "cell_type": "code",
      "execution_count": null,
      "metadata": {
        "id": "1-M-aS-Ij7EE"
      },
      "outputs": [],
      "source": [
        "# Placeholder for student's code (1 command line)\n",
        "# Task: Create the snapshot of your repository and add a description"
      ]
    },
    {
      "cell_type": "code",
      "execution_count": null,
      "metadata": {
        "id": "zovhzXRxj7Il"
      },
      "outputs": [],
      "source": [
        "# Solution:\n",
        "git commit -m \"xgboost hyperopt\""
      ]
    },
    {
      "cell_type": "markdown",
      "metadata": {
        "id": "Y9FciIQZj7nX"
      },
      "source": [
        "**[5.3]** Push your snapshot to Github"
      ]
    },
    {
      "cell_type": "code",
      "execution_count": null,
      "metadata": {
        "id": "IR7i6D5hj7uO"
      },
      "outputs": [],
      "source": [
        "# Placeholder for student's code (1 command line)\n",
        "# Task: Push your snapshot to Github"
      ]
    },
    {
      "cell_type": "code",
      "execution_count": null,
      "metadata": {
        "id": "WaVAgJ4Aj7wi"
      },
      "outputs": [],
      "source": [
        "# Solution:\n",
        "git push"
      ]
    },
    {
      "cell_type": "markdown",
      "metadata": {
        "id": "d7a6bwMniAs1"
      },
      "source": [
        "**[5.4]** Check out to the master branch"
      ]
    },
    {
      "cell_type": "code",
      "execution_count": null,
      "metadata": {
        "id": "eM9v_33XiA1I"
      },
      "outputs": [],
      "source": [
        "# Placeholder for student's code (1 command line)\n",
        "# Task: Check out to the master branch"
      ]
    },
    {
      "cell_type": "code",
      "execution_count": null,
      "metadata": {
        "id": "d6-AI0x7iA4M"
      },
      "outputs": [],
      "source": [
        "# Solution:\n",
        "git checkout master"
      ]
    },
    {
      "cell_type": "markdown",
      "metadata": {
        "id": "v98Ka9kNiBLw"
      },
      "source": [
        "**[5.5]** Pull the latest updates"
      ]
    },
    {
      "cell_type": "code",
      "execution_count": null,
      "metadata": {
        "id": "yNZb1PyEjIOP"
      },
      "outputs": [],
      "source": [
        "# Placeholder for student's code (1 command line)\n",
        "# Task: Pull the latest updates"
      ]
    },
    {
      "cell_type": "code",
      "execution_count": null,
      "metadata": {
        "id": "5TJAEYxPjIRS"
      },
      "outputs": [],
      "source": [
        "git pull"
      ]
    },
    {
      "cell_type": "markdown",
      "metadata": {
        "id": "srDptSq3-1QS"
      },
      "source": [
        "**[5.6]** Check out to the `xgboost_hyperopt` branch\n"
      ]
    },
    {
      "cell_type": "code",
      "execution_count": null,
      "metadata": {
        "id": "ldVCT2eT-1Z3"
      },
      "outputs": [],
      "source": [
        "# Placeholder for student's code (1 command line)\n",
        "# Task: Merge the branch xgboost_hyperopt"
      ]
    },
    {
      "cell_type": "code",
      "execution_count": null,
      "metadata": {
        "id": "Km9lJ0Ta-1ck"
      },
      "outputs": [],
      "source": [
        "# Solution:\n",
        "git checkout xgboost_hyperopt"
      ]
    },
    {
      "cell_type": "markdown",
      "metadata": {
        "id": "pGd3Xdx-jJDk"
      },
      "source": [
        "**[5.7]** Merge the `master` branch and push your changes\n"
      ]
    },
    {
      "cell_type": "code",
      "execution_count": null,
      "metadata": {
        "id": "aEYg8wauiBUb"
      },
      "outputs": [],
      "source": [
        "# Placeholder for student's code (2 command lines)\n",
        "# Task: Merge the master branch and push your changes"
      ]
    },
    {
      "cell_type": "code",
      "execution_count": null,
      "metadata": {
        "id": "YNZunyVsiBXd"
      },
      "outputs": [],
      "source": [
        "# Solution:\n",
        "git merge master\n",
        "git push"
      ]
    },
    {
      "cell_type": "markdown",
      "metadata": {
        "id": "I2ZaokUIas_c"
      },
      "source": [
        "Documentation: https://www.atlassian.com/git/tutorials/using-branches/git-merge"
      ]
    },
    {
      "cell_type": "markdown",
      "metadata": {
        "id": "8B98cSvWkB-x"
      },
      "source": [
        "**[5.8]** Go to Github and merge the branch after reviewing the code and fixing any conflict\n",
        "\n",
        "\n"
      ]
    },
    {
      "cell_type": "markdown",
      "metadata": {
        "id": "EkQx18jYiEvQ"
      },
      "source": [
        "**[5.9]** Stop the Docker container"
      ]
    },
    {
      "cell_type": "code",
      "execution_count": null,
      "metadata": {
        "id": "ovwOAbC5iE-T"
      },
      "outputs": [],
      "source": [
        "docker stop adv_dsi_lab_2"
      ]
    },
    {
      "cell_type": "markdown",
      "metadata": {
        "id": "5AS-TovMaS51"
      },
      "source": [
        "Documentation: https://docs.docker.com/engine/reference/commandline/stop/"
      ]
    }
  ],
  "metadata": {
    "colab": {
      "collapsed_sections": [],
      "name": "Copy of AdvDSI-Lab3-Exercise2-Solutions.ipynb",
      "provenance": []
    },
    "kernelspec": {
      "display_name": "Python 3",
      "language": "python",
      "name": "python3"
    },
    "language_info": {
      "codemirror_mode": {
        "name": "ipython",
        "version": 3
      },
      "file_extension": ".py",
      "mimetype": "text/x-python",
      "name": "python",
      "nbconvert_exporter": "python",
      "pygments_lexer": "ipython3",
      "version": "3.7.6"
    }
  },
  "nbformat": 4,
  "nbformat_minor": 0
}